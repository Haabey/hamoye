{
  "nbformat": 4,
  "nbformat_minor": 0,
  "metadata": {
    "colab": {
      "provenance": []
    },
    "kernelspec": {
      "name": "python3",
      "display_name": "Python 3"
    },
    "language_info": {
      "name": "python"
    }
  },
  "cells": [
    {
      "cell_type": "markdown",
      "source": [
        "5. Select columns ‘Y2017’ and ‘Area’, Perform a groupby operation on ‘Area’.  Which of these Areas had the 7th lowest sum in 2017?"
      ],
      "metadata": {
        "id": "lmLNuARp6N27"
      }
    },
    {
      "cell_type": "code",
      "source": [
        "import pandas as pd\n",
        "df = pd.read_csv('/content/FoodBalanceSheets_E_Africa_NOFLAG.csv' , encoding = \"latin-1\")\n",
        "df1 = df.drop('Area Code', axis=1)\n",
        "# Calculate the correlations\n",
        "corr_val = df1.corr()\n",
        "# Print the correlations\n",
        "print(corr_val)"
      ],
      "metadata": {
        "colab": {
          "base_uri": "https://localhost:8080/",
          "height": 356
        },
        "id": "fqUj9csqmCVS",
        "outputId": "f90cc4b3-9872-451a-be9d-774d967310c8"
      },
      "execution_count": 15,
      "outputs": [
        {
          "output_type": "error",
          "ename": "ValueError",
          "evalue": "could not convert string to float: 'Algeria'",
          "traceback": [
            "\u001b[0;31m---------------------------------------------------------------------------\u001b[0m",
            "\u001b[0;31mValueError\u001b[0m                                Traceback (most recent call last)",
            "\u001b[0;32m<ipython-input-15-05a8c70a228c>\u001b[0m in \u001b[0;36m<cell line: 5>\u001b[0;34m()\u001b[0m\n\u001b[1;32m      3\u001b[0m \u001b[0mdf1\u001b[0m \u001b[0;34m=\u001b[0m \u001b[0mdf\u001b[0m\u001b[0;34m.\u001b[0m\u001b[0mdrop\u001b[0m\u001b[0;34m(\u001b[0m\u001b[0;34m'Area Code'\u001b[0m\u001b[0;34m,\u001b[0m \u001b[0maxis\u001b[0m\u001b[0;34m=\u001b[0m\u001b[0;36m1\u001b[0m\u001b[0;34m)\u001b[0m\u001b[0;34m\u001b[0m\u001b[0;34m\u001b[0m\u001b[0m\n\u001b[1;32m      4\u001b[0m \u001b[0;31m# Calculate the correlations\u001b[0m\u001b[0;34m\u001b[0m\u001b[0;34m\u001b[0m\u001b[0m\n\u001b[0;32m----> 5\u001b[0;31m \u001b[0mcorr_val\u001b[0m \u001b[0;34m=\u001b[0m \u001b[0mdf1\u001b[0m\u001b[0;34m.\u001b[0m\u001b[0mcorr\u001b[0m\u001b[0;34m(\u001b[0m\u001b[0;34m)\u001b[0m\u001b[0;34m\u001b[0m\u001b[0;34m\u001b[0m\u001b[0m\n\u001b[0m\u001b[1;32m      6\u001b[0m \u001b[0;31m# Print the correlations\u001b[0m\u001b[0;34m\u001b[0m\u001b[0;34m\u001b[0m\u001b[0m\n\u001b[1;32m      7\u001b[0m \u001b[0mprint\u001b[0m\u001b[0;34m(\u001b[0m\u001b[0mcorr_val\u001b[0m\u001b[0;34m)\u001b[0m\u001b[0;34m\u001b[0m\u001b[0;34m\u001b[0m\u001b[0m\n",
            "\u001b[0;32m/usr/local/lib/python3.10/dist-packages/pandas/core/frame.py\u001b[0m in \u001b[0;36mcorr\u001b[0;34m(self, method, min_periods, numeric_only)\u001b[0m\n\u001b[1;32m  10052\u001b[0m         \u001b[0mcols\u001b[0m \u001b[0;34m=\u001b[0m \u001b[0mdata\u001b[0m\u001b[0;34m.\u001b[0m\u001b[0mcolumns\u001b[0m\u001b[0;34m\u001b[0m\u001b[0;34m\u001b[0m\u001b[0m\n\u001b[1;32m  10053\u001b[0m         \u001b[0midx\u001b[0m \u001b[0;34m=\u001b[0m \u001b[0mcols\u001b[0m\u001b[0;34m.\u001b[0m\u001b[0mcopy\u001b[0m\u001b[0;34m(\u001b[0m\u001b[0;34m)\u001b[0m\u001b[0;34m\u001b[0m\u001b[0;34m\u001b[0m\u001b[0m\n\u001b[0;32m> 10054\u001b[0;31m         \u001b[0mmat\u001b[0m \u001b[0;34m=\u001b[0m \u001b[0mdata\u001b[0m\u001b[0;34m.\u001b[0m\u001b[0mto_numpy\u001b[0m\u001b[0;34m(\u001b[0m\u001b[0mdtype\u001b[0m\u001b[0;34m=\u001b[0m\u001b[0mfloat\u001b[0m\u001b[0;34m,\u001b[0m \u001b[0mna_value\u001b[0m\u001b[0;34m=\u001b[0m\u001b[0mnp\u001b[0m\u001b[0;34m.\u001b[0m\u001b[0mnan\u001b[0m\u001b[0;34m,\u001b[0m \u001b[0mcopy\u001b[0m\u001b[0;34m=\u001b[0m\u001b[0;32mFalse\u001b[0m\u001b[0;34m)\u001b[0m\u001b[0;34m\u001b[0m\u001b[0;34m\u001b[0m\u001b[0m\n\u001b[0m\u001b[1;32m  10055\u001b[0m \u001b[0;34m\u001b[0m\u001b[0m\n\u001b[1;32m  10056\u001b[0m         \u001b[0;32mif\u001b[0m \u001b[0mmethod\u001b[0m \u001b[0;34m==\u001b[0m \u001b[0;34m\"pearson\"\u001b[0m\u001b[0;34m:\u001b[0m\u001b[0;34m\u001b[0m\u001b[0;34m\u001b[0m\u001b[0m\n",
            "\u001b[0;32m/usr/local/lib/python3.10/dist-packages/pandas/core/frame.py\u001b[0m in \u001b[0;36mto_numpy\u001b[0;34m(self, dtype, copy, na_value)\u001b[0m\n\u001b[1;32m   1836\u001b[0m         \u001b[0;32mif\u001b[0m \u001b[0mdtype\u001b[0m \u001b[0;32mis\u001b[0m \u001b[0;32mnot\u001b[0m \u001b[0;32mNone\u001b[0m\u001b[0;34m:\u001b[0m\u001b[0;34m\u001b[0m\u001b[0;34m\u001b[0m\u001b[0m\n\u001b[1;32m   1837\u001b[0m             \u001b[0mdtype\u001b[0m \u001b[0;34m=\u001b[0m \u001b[0mnp\u001b[0m\u001b[0;34m.\u001b[0m\u001b[0mdtype\u001b[0m\u001b[0;34m(\u001b[0m\u001b[0mdtype\u001b[0m\u001b[0;34m)\u001b[0m\u001b[0;34m\u001b[0m\u001b[0;34m\u001b[0m\u001b[0m\n\u001b[0;32m-> 1838\u001b[0;31m         \u001b[0mresult\u001b[0m \u001b[0;34m=\u001b[0m \u001b[0mself\u001b[0m\u001b[0;34m.\u001b[0m\u001b[0m_mgr\u001b[0m\u001b[0;34m.\u001b[0m\u001b[0mas_array\u001b[0m\u001b[0;34m(\u001b[0m\u001b[0mdtype\u001b[0m\u001b[0;34m=\u001b[0m\u001b[0mdtype\u001b[0m\u001b[0;34m,\u001b[0m \u001b[0mcopy\u001b[0m\u001b[0;34m=\u001b[0m\u001b[0mcopy\u001b[0m\u001b[0;34m,\u001b[0m \u001b[0mna_value\u001b[0m\u001b[0;34m=\u001b[0m\u001b[0mna_value\u001b[0m\u001b[0;34m)\u001b[0m\u001b[0;34m\u001b[0m\u001b[0;34m\u001b[0m\u001b[0m\n\u001b[0m\u001b[1;32m   1839\u001b[0m         \u001b[0;32mif\u001b[0m \u001b[0mresult\u001b[0m\u001b[0;34m.\u001b[0m\u001b[0mdtype\u001b[0m \u001b[0;32mis\u001b[0m \u001b[0;32mnot\u001b[0m \u001b[0mdtype\u001b[0m\u001b[0;34m:\u001b[0m\u001b[0;34m\u001b[0m\u001b[0;34m\u001b[0m\u001b[0m\n\u001b[1;32m   1840\u001b[0m             \u001b[0mresult\u001b[0m \u001b[0;34m=\u001b[0m \u001b[0mnp\u001b[0m\u001b[0;34m.\u001b[0m\u001b[0marray\u001b[0m\u001b[0;34m(\u001b[0m\u001b[0mresult\u001b[0m\u001b[0;34m,\u001b[0m \u001b[0mdtype\u001b[0m\u001b[0;34m=\u001b[0m\u001b[0mdtype\u001b[0m\u001b[0;34m,\u001b[0m \u001b[0mcopy\u001b[0m\u001b[0;34m=\u001b[0m\u001b[0;32mFalse\u001b[0m\u001b[0;34m)\u001b[0m\u001b[0;34m\u001b[0m\u001b[0;34m\u001b[0m\u001b[0m\n",
            "\u001b[0;32m/usr/local/lib/python3.10/dist-packages/pandas/core/internals/managers.py\u001b[0m in \u001b[0;36mas_array\u001b[0;34m(self, dtype, copy, na_value)\u001b[0m\n\u001b[1;32m   1730\u001b[0m                 \u001b[0marr\u001b[0m\u001b[0;34m.\u001b[0m\u001b[0mflags\u001b[0m\u001b[0;34m.\u001b[0m\u001b[0mwriteable\u001b[0m \u001b[0;34m=\u001b[0m \u001b[0;32mFalse\u001b[0m\u001b[0;34m\u001b[0m\u001b[0;34m\u001b[0m\u001b[0m\n\u001b[1;32m   1731\u001b[0m         \u001b[0;32melse\u001b[0m\u001b[0;34m:\u001b[0m\u001b[0;34m\u001b[0m\u001b[0;34m\u001b[0m\u001b[0m\n\u001b[0;32m-> 1732\u001b[0;31m             \u001b[0marr\u001b[0m \u001b[0;34m=\u001b[0m \u001b[0mself\u001b[0m\u001b[0;34m.\u001b[0m\u001b[0m_interleave\u001b[0m\u001b[0;34m(\u001b[0m\u001b[0mdtype\u001b[0m\u001b[0;34m=\u001b[0m\u001b[0mdtype\u001b[0m\u001b[0;34m,\u001b[0m \u001b[0mna_value\u001b[0m\u001b[0;34m=\u001b[0m\u001b[0mna_value\u001b[0m\u001b[0;34m)\u001b[0m\u001b[0;34m\u001b[0m\u001b[0;34m\u001b[0m\u001b[0m\n\u001b[0m\u001b[1;32m   1733\u001b[0m             \u001b[0;31m# The underlying data was copied within _interleave, so no need\u001b[0m\u001b[0;34m\u001b[0m\u001b[0;34m\u001b[0m\u001b[0m\n\u001b[1;32m   1734\u001b[0m             \u001b[0;31m# to further copy if copy=True or setting na_value\u001b[0m\u001b[0;34m\u001b[0m\u001b[0;34m\u001b[0m\u001b[0m\n",
            "\u001b[0;32m/usr/local/lib/python3.10/dist-packages/pandas/core/internals/managers.py\u001b[0m in \u001b[0;36m_interleave\u001b[0;34m(self, dtype, na_value)\u001b[0m\n\u001b[1;32m   1792\u001b[0m             \u001b[0;32melse\u001b[0m\u001b[0;34m:\u001b[0m\u001b[0;34m\u001b[0m\u001b[0;34m\u001b[0m\u001b[0m\n\u001b[1;32m   1793\u001b[0m                 \u001b[0marr\u001b[0m \u001b[0;34m=\u001b[0m \u001b[0mblk\u001b[0m\u001b[0;34m.\u001b[0m\u001b[0mget_values\u001b[0m\u001b[0;34m(\u001b[0m\u001b[0mdtype\u001b[0m\u001b[0;34m)\u001b[0m\u001b[0;34m\u001b[0m\u001b[0;34m\u001b[0m\u001b[0m\n\u001b[0;32m-> 1794\u001b[0;31m             \u001b[0mresult\u001b[0m\u001b[0;34m[\u001b[0m\u001b[0mrl\u001b[0m\u001b[0;34m.\u001b[0m\u001b[0mindexer\u001b[0m\u001b[0;34m]\u001b[0m \u001b[0;34m=\u001b[0m \u001b[0marr\u001b[0m\u001b[0;34m\u001b[0m\u001b[0;34m\u001b[0m\u001b[0m\n\u001b[0m\u001b[1;32m   1795\u001b[0m             \u001b[0mitemmask\u001b[0m\u001b[0;34m[\u001b[0m\u001b[0mrl\u001b[0m\u001b[0;34m.\u001b[0m\u001b[0mindexer\u001b[0m\u001b[0;34m]\u001b[0m \u001b[0;34m=\u001b[0m \u001b[0;36m1\u001b[0m\u001b[0;34m\u001b[0m\u001b[0;34m\u001b[0m\u001b[0m\n\u001b[1;32m   1796\u001b[0m \u001b[0;34m\u001b[0m\u001b[0m\n",
            "\u001b[0;31mValueError\u001b[0m: could not convert string to float: 'Algeria'"
          ]
        }
      ]
    },
    {
      "cell_type": "code",
      "source": [
        "S = [['him', 'sell'], [90, 28, 43]]\n",
        "\n",
        "print(S[0][1][1])"
      ],
      "metadata": {
        "colab": {
          "base_uri": "https://localhost:8080/"
        },
        "id": "YKNehpV5s3o3",
        "outputId": "334f4885-6c44-4e90-c28b-e516ed8536ba"
      },
      "execution_count": 16,
      "outputs": [
        {
          "output_type": "stream",
          "name": "stdout",
          "text": [
            "e\n"
          ]
        }
      ]
    },
    {
      "cell_type": "code",
      "source": [
        "array  = ([[94, 89, 63],\n",
        "\n",
        "             [93, 92, 48],\n",
        "\n",
        "             [92, 94, 56]])\n",
        "\n",
        "print(array[ : 2, 0 : ])\n",
        "\n",
        "print(array[ : 1, 1 : ])\n",
        "\n",
        "print(array[ 1 : , : ])\n",
        "\n",
        "print(array[ : 1, 1 :])\n",
        "\n",
        "print(array[ : 2, 1 : ])"
      ],
      "metadata": {
        "colab": {
          "base_uri": "https://localhost:8080/",
          "height": 211
        },
        "id": "cMo-mN2StGA7",
        "outputId": "0c5ea28a-cc94-48bd-a7e4-5a6fb3bdd756"
      },
      "execution_count": 19,
      "outputs": [
        {
          "output_type": "error",
          "ename": "TypeError",
          "evalue": "list indices must be integers or slices, not tuple",
          "traceback": [
            "\u001b[0;31m---------------------------------------------------------------------------\u001b[0m",
            "\u001b[0;31mTypeError\u001b[0m                                 Traceback (most recent call last)",
            "\u001b[0;32m<ipython-input-19-a285df5ebd26>\u001b[0m in \u001b[0;36m<cell line: 7>\u001b[0;34m()\u001b[0m\n\u001b[1;32m      5\u001b[0m              [92, 94, 56]])\n\u001b[1;32m      6\u001b[0m \u001b[0;34m\u001b[0m\u001b[0m\n\u001b[0;32m----> 7\u001b[0;31m \u001b[0mprint\u001b[0m\u001b[0;34m(\u001b[0m\u001b[0marray\u001b[0m\u001b[0;34m[\u001b[0m \u001b[0;34m:\u001b[0m \u001b[0;36m2\u001b[0m\u001b[0;34m,\u001b[0m \u001b[0;36m0\u001b[0m \u001b[0;34m:\u001b[0m \u001b[0;34m]\u001b[0m\u001b[0;34m)\u001b[0m\u001b[0;34m\u001b[0m\u001b[0;34m\u001b[0m\u001b[0m\n\u001b[0m\u001b[1;32m      8\u001b[0m \u001b[0;34m\u001b[0m\u001b[0m\n\u001b[1;32m      9\u001b[0m \u001b[0mprint\u001b[0m\u001b[0;34m(\u001b[0m\u001b[0marray\u001b[0m\u001b[0;34m[\u001b[0m \u001b[0;34m:\u001b[0m \u001b[0;36m1\u001b[0m\u001b[0;34m,\u001b[0m \u001b[0;36m1\u001b[0m \u001b[0;34m:\u001b[0m \u001b[0;34m]\u001b[0m\u001b[0;34m)\u001b[0m\u001b[0;34m\u001b[0m\u001b[0;34m\u001b[0m\u001b[0m\n",
            "\u001b[0;31mTypeError\u001b[0m: list indices must be integers or slices, not tuple"
          ]
        }
      ]
    },
    {
      "cell_type": "code",
      "source": [
        "print(df)"
      ],
      "metadata": {
        "colab": {
          "base_uri": "https://localhost:8080/"
        },
        "id": "78vMzH7Lt99c",
        "outputId": "dcfc8614-70e6-4225-afd4-ccc709f4ec62"
      },
      "execution_count": 21,
      "outputs": [
        {
          "output_type": "stream",
          "name": "stdout",
          "text": [
            "       Area Code      Area  Item Code           Item  Element Code  \\\n",
            "0              4   Algeria       2501     Population           511   \n",
            "1              4   Algeria       2501     Population          5301   \n",
            "2              4   Algeria       2901    Grand Total           664   \n",
            "3              4   Algeria       2901    Grand Total           674   \n",
            "4              4   Algeria       2901    Grand Total           684   \n",
            "...          ...       ...        ...            ...           ...   \n",
            "60938        181  Zimbabwe       2899  Miscellaneous          5142   \n",
            "60939        181  Zimbabwe       2899  Miscellaneous           645   \n",
            "60940        181  Zimbabwe       2899  Miscellaneous           664   \n",
            "60941        181  Zimbabwe       2899  Miscellaneous           674   \n",
            "60942        181  Zimbabwe       2899  Miscellaneous           684   \n",
            "\n",
            "                                      Element             Unit     Y2014  \\\n",
            "0               Total Population - Both sexes     1000 persons  38924.00   \n",
            "1                    Domestic supply quantity      1000 tonnes      0.00   \n",
            "2               Food supply (kcal/capita/day)  kcal/capita/day   3377.00   \n",
            "3      Protein supply quantity (g/capita/day)     g/capita/day     94.90   \n",
            "4          Fat supply quantity (g/capita/day)     g/capita/day     80.06   \n",
            "...                                       ...              ...       ...   \n",
            "60938                                    Food      1000 tonnes     42.00   \n",
            "60939     Food supply quantity (kg/capita/yr)               kg      3.06   \n",
            "60940           Food supply (kcal/capita/day)  kcal/capita/day      3.00   \n",
            "60941  Protein supply quantity (g/capita/day)     g/capita/day      0.10   \n",
            "60942      Fat supply quantity (g/capita/day)     g/capita/day      0.04   \n",
            "\n",
            "          Y2015     Y2016     Y2017     Y2018  \n",
            "0      39728.00  40551.00  41389.00  42228.00  \n",
            "1          0.00      0.00      0.00      0.00  \n",
            "2       3379.00   3372.00   3341.00   3322.00  \n",
            "3         94.35     94.72     92.82     91.83  \n",
            "4         79.36     77.40     80.19     77.28  \n",
            "...         ...       ...       ...       ...  \n",
            "60938     46.00     33.00     19.00     16.00  \n",
            "60939      3.33      2.35      1.33      1.08  \n",
            "60940      4.00      3.00      1.00      1.00  \n",
            "60941      0.11      0.08      0.04      0.04  \n",
            "60942      0.05      0.03      0.02      0.01  \n",
            "\n",
            "[60943 rows x 12 columns]\n"
          ]
        }
      ]
    },
    {
      "cell_type": "markdown",
      "source": [
        "4. Answer the following questions based on the African food production dataset provided by the FAO website already provided\n",
        "\n",
        "What is the total sum of Wine produced in 2015 and 2018 respectively?\n",
        "\n",
        "Hint:\n",
        "\n",
        "### Perform a groupby sum aggregation on ‘Item’"
      ],
      "metadata": {
        "id": "r--7UH2E4UFh"
      }
    },
    {
      "cell_type": "code",
      "source": [
        "df.groupby('Item')['Y2015'].sum()"
      ],
      "metadata": {
        "colab": {
          "base_uri": "https://localhost:8080/"
        },
        "id": "_i-b0Nxb0g9Y",
        "outputId": "4ed4ed64-6e26-43b4-d673-5d6fb0973157"
      },
      "execution_count": 36,
      "outputs": [
        {
          "output_type": "execute_result",
          "data": {
            "text/plain": [
              "Item\n",
              "Alcohol, Non-Food        2180.00\n",
              "Alcoholic Beverages     98783.72\n",
              "Animal Products         11811.73\n",
              "Animal fats            200675.72\n",
              "Apples and products     10559.15\n",
              "                         ...    \n",
              "Vegetables, Other      158104.08\n",
              "Vegetal Products       107064.17\n",
              "Wheat and products     234710.51\n",
              "Wine                     4251.81\n",
              "Yams                   203151.78\n",
              "Name: Y2015, Length: 119, dtype: float64"
            ]
          },
          "metadata": {},
          "execution_count": 36
        }
      ]
    },
    {
      "cell_type": "code",
      "source": [
        "df.groupby('Item')['Y2018'].sum()"
      ],
      "metadata": {
        "colab": {
          "base_uri": "https://localhost:8080/"
        },
        "id": "Gr8i7LCw4HfW",
        "outputId": "484946cf-1eaa-4c01-a3fb-bbb754cea917"
      },
      "execution_count": 37,
      "outputs": [
        {
          "output_type": "execute_result",
          "data": {
            "text/plain": [
              "Item\n",
              "Alcohol, Non-Food        2293.00\n",
              "Alcoholic Beverages     97847.27\n",
              "Animal Products         11578.61\n",
              "Animal fats            269648.27\n",
              "Apples and products      9640.51\n",
              "                         ...    \n",
              "Vegetables, Other      163987.21\n",
              "Vegetal Products       107775.39\n",
              "Wheat and products     242645.19\n",
              "Wine                     4039.32\n",
              "Yams                   221272.09\n",
              "Name: Y2018, Length: 119, dtype: float64"
            ]
          },
          "metadata": {},
          "execution_count": 37
        }
      ]
    },
    {
      "cell_type": "markdown",
      "source": [
        "5. Select columns ‘Y2017’ and ‘Area’, Perform a groupby operation on ‘Area’.  Which of these Areas had the 7th lowest sum in 2017?"
      ],
      "metadata": {
        "id": "R3o9rwbd4sjY"
      }
    },
    {
      "cell_type": "code",
      "source": [
        "df_subset = df[['Y2017', 'Area']]\n",
        "grouped_df = df_subset.groupby('Area')['Y2017'].sum()\n",
        "sorted_df = grouped_df.sort_values(ascending=True)\n",
        "seventh_lowest_index = sorted_df.index[6]\n",
        "print(f\"Area with the 7th lowest sum in 2017: {seventh_lowest_index}\")"
      ],
      "metadata": {
        "colab": {
          "base_uri": "https://localhost:8080/"
        },
        "id": "q_qdxszO4v90",
        "outputId": "4f642b42-ba6b-454b-ea27-d7c55fa46bfc"
      },
      "execution_count": 43,
      "outputs": [
        {
          "output_type": "stream",
          "name": "stdout",
          "text": [
            "Area with the 7th lowest sum in 2017: Guinea-Bissau\n"
          ]
        }
      ]
    },
    {
      "cell_type": "markdown",
      "source": [
        "Select columns ‘Y2017’ and ‘Area’, Perform a groupby operation on ‘Area’.  Which of these Areas had the highest sum in 2017?\n",
        "\n",
        "Options\n",
        "Kenya\n",
        "\n",
        "Nigeria\n",
        "\n",
        "Egypt\n",
        "\n",
        "South Africa\n",
        "\n",
        "Ethiopia"
      ],
      "metadata": {
        "id": "L2Iy0apF7kaM"
      }
    },
    {
      "cell_type": "code",
      "source": [
        "# Select columns 'Y2017' and 'Area'\n",
        "df_subset = df[['Y2017', 'Area']]\n",
        "\n",
        "# Group by 'Area' and sum the 'Y2017' values\n",
        "grouped_df = df_subset.groupby('Area')['Y2017'].sum()\n",
        "\n",
        "# Get the index of the group with the highest sum\n",
        "highest_sum_index = grouped_df.idxmax()\n",
        "\n",
        "# Print the Area with the highest sum in 2017\n",
        "print(f\"Area with the highest sum in 2017: {highest_sum_index}\")"
      ],
      "metadata": {
        "colab": {
          "base_uri": "https://localhost:8080/"
        },
        "id": "TTxTtRs57283",
        "outputId": "5daf46c5-7255-4a59-92bf-2439f147ac7f"
      },
      "execution_count": 44,
      "outputs": [
        {
          "output_type": "stream",
          "name": "stdout",
          "text": [
            "Area with the highest sum in 2017: Nigeria\n"
          ]
        }
      ]
    },
    {
      "cell_type": "markdown",
      "source": [
        "What is the total number of unique countries in the dataset?"
      ],
      "metadata": {
        "id": "AsmM2OYN8lVr"
      }
    },
    {
      "cell_type": "code",
      "source": [
        "# Extract the 'Area' column\n",
        "country_column = df['Area']\n",
        "\n",
        "# Get the unique values in the 'Country' column\n",
        "unique_countries = country_column.unique()\n",
        "\n",
        "# Count the number of unique countries\n",
        "num_unique_countries = len(unique_countries)\n",
        "\n",
        "# Print the result\n",
        "print(f\"Number of unique countries: {num_unique_countries}\")"
      ],
      "metadata": {
        "colab": {
          "base_uri": "https://localhost:8080/"
        },
        "id": "gYNi9epV8nax",
        "outputId": "dd914fe5-5e64-4001-9fa3-47aa090b8a2d"
      },
      "execution_count": 46,
      "outputs": [
        {
          "output_type": "stream",
          "name": "stdout",
          "text": [
            "Number of unique countries: 49\n"
          ]
        }
      ]
    },
    {
      "cell_type": "markdown",
      "source": [
        "\n",
        "Perform a groupby operation on ‘Element’.  What year has the highest sum of Stock Variation?\n",
        "\n",
        "Options\n",
        "2017\n",
        "\n",
        "2015\n",
        "\n",
        "2016\n",
        "\n",
        "2014"
      ],
      "metadata": {
        "id": "zXYgMUKU_Rp7"
      }
    },
    {
      "cell_type": "code",
      "source": [
        "\n",
        "grouped_df = df.groupby('Element')[['Y2014', 'Y2015', 'Y2016', 'Y2017']].sum()\n",
        "print(grouped_df)\n"
      ],
      "metadata": {
        "colab": {
          "base_uri": "https://localhost:8080/"
        },
        "id": "TrYjp463_WwP",
        "outputId": "26895056-f211-41b8-9456-d266f64caae0"
      },
      "execution_count": 54,
      "outputs": [
        {
          "output_type": "stream",
          "name": "stdout",
          "text": [
            "                                             Y2014       Y2015       Y2016  \\\n",
            "Element                                                                      \n",
            "Domestic supply quantity                1996716.35  2021493.55  2044842.70   \n",
            "Export Quantity                          150020.64   157614.47   151920.46   \n",
            "Fat supply quantity (g/capita/day)        10225.56    10235.74    10102.77   \n",
            "Feed                                     216927.89   225050.22   228958.65   \n",
            "Food                                    1212332.49  1232361.10  1247022.17   \n",
            "Food supply (kcal/capita/day)            454257.00   453383.00   451810.00   \n",
            "Food supply quantity (kg/capita/yr)       49650.63    49345.13    48985.28   \n",
            "Import Quantity                          274144.48   267018.46   286582.78   \n",
            "Losses                                   153223.00   155439.00   157787.00   \n",
            "Other uses (non-food)                     78718.13    66254.41    69563.68   \n",
            "Processing                               282923.00   287929.00   280631.00   \n",
            "Production                              1931287.75  1947019.39  1943537.15   \n",
            "Protein supply quantity (g/capita/day)    11836.46    11833.95    11779.69   \n",
            "Residuals                                 30149.00    30045.00    37224.00   \n",
            "Seed                                      21922.92    23976.82    23389.20   \n",
            "Stock Variation                           58749.83    34910.99    33140.12   \n",
            "Total Population - Both sexes           1031585.00  1058081.00  1085107.00   \n",
            "Tourist consumption                         416.00      349.00       89.00   \n",
            "\n",
            "                                             Y2017  \n",
            "Element                                             \n",
            "Domestic supply quantity                2088198.10  \n",
            "Export Quantity                          182338.80  \n",
            "Fat supply quantity (g/capita/day)        10253.84  \n",
            "Feed                                     223705.68  \n",
            "Food                                    1258888.28  \n",
            "Food supply (kcal/capita/day)            454681.00  \n",
            "Food supply quantity (kg/capita/yr)       48690.04  \n",
            "Import Quantity                          294559.09  \n",
            "Losses                                   160614.00  \n",
            "Other uses (non-food)                     91645.97  \n",
            "Processing                               292836.00  \n",
            "Production                              2030056.89  \n",
            "Protein supply quantity (g/capita/day)    11842.45  \n",
            "Residuals                                 35500.00  \n",
            "Seed                                      24870.14  \n",
            "Stock Variation                           54316.91  \n",
            "Total Population - Both sexes           1112641.00  \n",
            "Tourist consumption                          91.00  \n"
          ]
        }
      ]
    },
    {
      "cell_type": "markdown",
      "source": [
        "What is the mean and standard deviation across the whole dataset for the year 2017 to 2 decimal places?\n",
        "\n",
        "Options\n",
        "140.92 and 1671.86\n",
        "\n",
        "8.54 and 9876.77\n",
        "\n",
        "10.60 and 8.49\n",
        "\n",
        "10.60 and 17.01\n",
        "\n",
        "135.23 and 1603.40"
      ],
      "metadata": {
        "id": "Y8feKT3PBWH8"
      }
    },
    {
      "cell_type": "code",
      "source": [
        "\n",
        "# Calculate the mean and standard deviation for the year 2017\n",
        "mean_2017 = df[\"Y2017\"].mean().round(2)\n",
        "std_2017 = df[\"Y2017\"].std().round(2)\n",
        "\n",
        "# Print the results\n",
        "print(f\"Mean (2017): {mean_2017}\")\n",
        "print(f\"Standard deviation (2017): {std_2017}\")"
      ],
      "metadata": {
        "colab": {
          "base_uri": "https://localhost:8080/"
        },
        "id": "zMQreZUfBzN9",
        "outputId": "5403a62e-5512-4789-8f2d-8364e1eb237e"
      },
      "execution_count": 55,
      "outputs": [
        {
          "output_type": "stream",
          "name": "stdout",
          "text": [
            "Mean (2017): 140.92\n",
            "Standard deviation (2017): 1671.86\n"
          ]
        }
      ]
    },
    {
      "cell_type": "markdown",
      "source": [
        "Given the following python code, what would the output of the code give?\n",
        "\n",
        "my_tuppy = (1,2,5,8)\n",
        "\n",
        "my_tuppy[2] = 6"
      ],
      "metadata": {
        "id": "JRjB19k3CALc"
      }
    },
    {
      "cell_type": "code",
      "source": [
        "my_tuppy = (1,2,5,8)\n",
        "\n",
        "my_tuppy[2] = 6"
      ],
      "metadata": {
        "colab": {
          "base_uri": "https://localhost:8080/",
          "height": 176
        },
        "id": "0mwmG-IaCBik",
        "outputId": "39b7a6a4-6ba8-4645-f2e6-f67454d6d920"
      },
      "execution_count": 56,
      "outputs": [
        {
          "ename": "TypeError",
          "evalue": "'tuple' object does not support item assignment",
          "output_type": "error",
          "traceback": [
            "\u001b[0;31m---------------------------------------------------------------------------\u001b[0m",
            "\u001b[0;31mTypeError\u001b[0m                                 Traceback (most recent call last)",
            "\u001b[0;32m<ipython-input-56-ce1543b3be47>\u001b[0m in \u001b[0;36m<cell line: 3>\u001b[0;34m()\u001b[0m\n\u001b[1;32m      1\u001b[0m \u001b[0mmy_tuppy\u001b[0m \u001b[0;34m=\u001b[0m \u001b[0;34m(\u001b[0m\u001b[0;36m1\u001b[0m\u001b[0;34m,\u001b[0m\u001b[0;36m2\u001b[0m\u001b[0;34m,\u001b[0m\u001b[0;36m5\u001b[0m\u001b[0;34m,\u001b[0m\u001b[0;36m8\u001b[0m\u001b[0;34m)\u001b[0m\u001b[0;34m\u001b[0m\u001b[0;34m\u001b[0m\u001b[0m\n\u001b[1;32m      2\u001b[0m \u001b[0;34m\u001b[0m\u001b[0m\n\u001b[0;32m----> 3\u001b[0;31m \u001b[0mmy_tuppy\u001b[0m\u001b[0;34m[\u001b[0m\u001b[0;36m2\u001b[0m\u001b[0;34m]\u001b[0m \u001b[0;34m=\u001b[0m \u001b[0;36m6\u001b[0m\u001b[0;34m\u001b[0m\u001b[0;34m\u001b[0m\u001b[0m\n\u001b[0m",
            "\u001b[0;31mTypeError\u001b[0m: 'tuple' object does not support item assignment"
          ]
        }
      ]
    },
    {
      "cell_type": "markdown",
      "source": [
        "Perform a groupby operation on ‘Element’.  What is the total number of the sum of Processing in 2017?"
      ],
      "metadata": {
        "id": "2YmQVvokCUPQ"
      }
    },
    {
      "cell_type": "code",
      "source": [
        "\n",
        "# Group by 'Element' and calculate the sum of 'Processing' in 2017\n",
        "grouped_df = df.groupby('Element')['Y2017'].sum()\n",
        "\n",
        "# Extract the sum of 'Processing'\n",
        "processing_sum = grouped_df['Processing']\n",
        "\n",
        "# Print the result\n",
        "print(f\"Total sum of Processing in 2017: {processing_sum}\")"
      ],
      "metadata": {
        "colab": {
          "base_uri": "https://localhost:8080/"
        },
        "id": "nUD2D_yNCYFS",
        "outputId": "58dd38be-4702-468b-ad91-443b532832f7"
      },
      "execution_count": 57,
      "outputs": [
        {
          "output_type": "stream",
          "name": "stdout",
          "text": [
            "Total sum of Processing in 2017: 292836.0\n"
          ]
        }
      ]
    },
    {
      "cell_type": "markdown",
      "source": [
        "What is the total Protein supply quantity in Madagascar in 2015?\n",
        "\n",
        "Options\n",
        "173.05\n",
        "\n",
        "174.91\n",
        "\n",
        "180.29\n",
        "\n",
        "357.12"
      ],
      "metadata": {
        "id": "8Upo0JLlC7j9"
      }
    },
    {
      "cell_type": "code",
      "source": [
        "\n",
        "# Filter rows where Area is Madagascar\n",
        "filtered_df = df[(df['Area'] == 'Madagascar')]\n",
        "grouped_df = filtered_df.groupby('Element')[[ 'Y2015']].sum()\n",
        "print(grouped_df)\n"
      ],
      "metadata": {
        "colab": {
          "base_uri": "https://localhost:8080/"
        },
        "id": "CQlq1q4bDMb7",
        "outputId": "948d8cca-9331-445b-a4a4-879ac74dac6b"
      },
      "execution_count": 69,
      "outputs": [
        {
          "output_type": "stream",
          "name": "stdout",
          "text": [
            "                                           Y2015\n",
            "Element                                         \n",
            "Domestic supply quantity                31214.98\n",
            "Export Quantity                           494.75\n",
            "Fat supply quantity (g/capita/day)         91.85\n",
            "Feed                                     2070.22\n",
            "Food                                    21120.65\n",
            "Food supply (kcal/capita/day)            7685.00\n",
            "Food supply quantity (kg/capita/yr)       871.59\n",
            "Import Quantity                          1721.80\n",
            "Losses                                   2176.00\n",
            "Other uses (non-food)                    3957.12\n",
            "Processing                               1803.00\n",
            "Production                              29482.89\n",
            "Protein supply quantity (g/capita/day)    173.05\n",
            "Residuals                                -616.00\n",
            "Seed                                      699.00\n",
            "Stock Variation                          -505.00\n",
            "Total Population - Both sexes           24234.00\n"
          ]
        }
      ]
    },
    {
      "cell_type": "markdown",
      "source": [
        "What is the total number and percentage of missing data in 2014 to 3 decimal places?\n",
        "\n",
        "Options\n",
        "1538 and 2.522%\n",
        "\n",
        "1506 and 2.477%\n",
        "\n",
        "1589 and 2.607%\n",
        "\n",
        "1598 and 2.617%\n",
        "\n",
        "1473 and 2.152 %"
      ],
      "metadata": {
        "id": "0crbBtX3HE_I"
      }
    },
    {
      "cell_type": "code",
      "source": [
        "import pandas as pd\n",
        "\n",
        "# Count the total number of missing values in 2014\n",
        "missing_values_2014 = df['Y2014'].isnull().sum()\n",
        "\n",
        "# Calculate the total number of values in 2014\n",
        "total_values_2014 = len(df['Y2014'])\n",
        "\n",
        "# Calculate the percentage of missing data in 2014\n",
        "missing_percentage_2014 = (missing_values_2014 / total_values_2014) * 100\n",
        "\n",
        "# Round the results to 3 decimal places\n",
        "missing_values_2014 = round(missing_values_2014, 3)\n",
        "missing_percentage_2014 = round(missing_percentage_2014, 3)\n",
        "\n",
        "# Print the results\n",
        "print(f\"Total number of missing values in 2014: {missing_values_2014}\")\n",
        "print(f\"Percentage of missing data in 2014: {missing_percentage_2014}%\")"
      ],
      "metadata": {
        "colab": {
          "base_uri": "https://localhost:8080/"
        },
        "id": "v4Y2cPOFHHMv",
        "outputId": "5baeb362-955a-4f8c-ca1e-7611e55ed54a"
      },
      "execution_count": 70,
      "outputs": [
        {
          "output_type": "stream",
          "name": "stdout",
          "text": [
            "Total number of missing values in 2014: 1589\n",
            "Percentage of missing data in 2014: 2.607%\n"
          ]
        }
      ]
    }
  ]
}